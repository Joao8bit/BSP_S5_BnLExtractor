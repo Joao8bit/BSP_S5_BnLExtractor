{
 "cells": [
  {
   "cell_type": "markdown",
   "metadata": {},
   "source": [
    "Importing Required Libraries"
   ]
  },
  {
   "cell_type": "code",
   "execution_count": 2,
   "metadata": {},
   "outputs": [],
   "source": [
    "import string\n",
    "import pandas as pd\n",
    "\n",
    "import fr_core_news_md\n",
    "import de_core_news_md\n",
    "\n",
    "from stop_words import get_stop_words\n",
    "from nltk.corpus import stopwords\n",
    "\n",
    "import gensim\n",
    "from gensim.models import CoherenceModel\n",
    "\n",
    "import pyLDAvis\n",
    "import pyLDAvis.gensim_models\n"
   ]
  },
  {
   "cell_type": "markdown",
   "metadata": {},
   "source": [
    "Preparing files and NLP - Choose appropriate language"
   ]
  },
  {
   "cell_type": "code",
   "execution_count": null,
   "metadata": {},
   "outputs": [],
   "source": [
    "# FR\n",
    "nlp = fr_core_news_md.load(disable=['parser', 'ner'])\n",
    "stop_words = set(get_stop_words('french')) | set(stopwords.words('french'))\n",
    "df = pd.read_csv('AdsFullFR3.csv')"
   ]
  },
  {
   "cell_type": "code",
   "execution_count": 3,
   "metadata": {},
   "outputs": [],
   "source": [
    "# DE\n",
    "nlp = de_core_news_md.load(disable=['parser', 'ner'])\n",
    "stop_words = set(get_stop_words('german')) | set(stopwords.words('german'))\n",
    "df = pd.read_csv('AdsFullDE3.csv')"
   ]
  },
  {
   "cell_type": "markdown",
   "metadata": {},
   "source": [
    "Clean Text"
   ]
  },
  {
   "cell_type": "code",
   "execution_count": 4,
   "metadata": {},
   "outputs": [],
   "source": [
    "def clean_text(text):\n",
    "  \"\"\"\n",
    "  Cleans the text by removing unnecessary punctuation symbols\n",
    "  \"\"\"\n",
    "  delete_dict = {sp_char: '' for sp_char in string.punctuation}\n",
    "  delete_dict[' '] =' '\n",
    "  table = str.maketrans(delete_dict)\n",
    "  text1 = text.translate(table)\n",
    "  textArr= text1.split()\n",
    "  text2 = ' '.join([w for w in textArr if ( not w.isdigit() and\n",
    "                                           ( not w.isdigit() and len(w)>3))])\n",
    "  return text2.lower()"
   ]
  },
  {
   "cell_type": "code",
   "execution_count": 5,
   "metadata": {},
   "outputs": [],
   "source": [
    "df['Description'] = df['Description'].apply(clean_text)"
   ]
  },
  {
   "cell_type": "markdown",
   "metadata": {},
   "source": [
    "Remove Stopwords"
   ]
  },
  {
   "cell_type": "code",
   "execution_count": 6,
   "metadata": {},
   "outputs": [],
   "source": [
    "def remove_stopwords(text):\n",
    "  \"\"\"\n",
    "  Removes stopwords from a parameter text\n",
    "  \"\"\"\n",
    "  textArr = text.split(' ')\n",
    "  rem_text = \" \".join([i for i in textArr if i not in stop_words])\n",
    "  return rem_text"
   ]
  },
  {
   "cell_type": "code",
   "execution_count": 7,
   "metadata": {},
   "outputs": [],
   "source": [
    "df['Description'] = df['Description'].apply(remove_stopwords)"
   ]
  },
  {
   "cell_type": "markdown",
   "metadata": {},
   "source": [
    "Text to list"
   ]
  },
  {
   "cell_type": "code",
   "execution_count": 8,
   "metadata": {},
   "outputs": [],
   "source": [
    "text_list = df['Description'].tolist()"
   ]
  },
  {
   "cell_type": "code",
   "execution_count": 10,
   "metadata": {},
   "outputs": [
    {
     "name": "stdout",
     "output_type": "stream",
     "text": [
      "Test list:  rmorkaniine michel fünck luxemburg aaüi fabrikpreise jftjf gr°s3lierbogthimis3lier8ogthimi luxemburg saargemünder ceramischen produkt« plat kaminröhren pavés rayétrottoirsteine ixxii «100 mosaikplatten farben gattungen ixxaii ltoflfl agtpôt harmornauren artxtxll srlrlr rumine platten fenstertabletten tischplatten ♦♦♦i tißchplatten pcllpr grösse gerber «chüne auswahl kaminen stehen fertig ixixll aufgerichtet einsicht stets vorräthig schie itxti spühlsteiüe dimensionen echte rheinische itttl tuffsteine wände portlandcement engüshe älr«n ss«rieungsröhre mosaikplatten erster qualität franken meter fabrikpreise grosse niederlage dachschiefern dachziegeln dachbrettern zlegelwaaren spfihlstefne ttresham ltofc compagnie angkùe elfte ttlttö dassurances cmjn siege compagnie jetcrp lmdm gemelndvowlngen snccnrsale9 nachbenannten tagen läßt royale bruxelles gemeindeverwaltung paar principes rationnels lesquels sont basées dinstag opérationsj april vor» importance fonds réserve mittags holzschlage graaid nombre assurés section nowingen distrikt soin préside choix risques „hilpert placement prudent capitaux eichen labstention toute espèce spéculation buchen sécurité plus absolue stères scheit» pour prospectus renseignements sadresser lagent gêné knka ®mjgtptw pour grandduché victor clément agents suöj dahd grandduché oose späne donnerstag fi«« vormittags société industrielle ellen oäli grandduché luxembourg birken société anonyme lichen actionnaires sont invités réunir statt scheit» assemblée générale ordinaire mercredi avrii knüppelholz heures laprèsmidi saintjosseten wellen noode bruxelles chaussée dhœcht loose span« ordbe jour »„s»5t rapport conseil dadministration afiaires sociales 33««3hlmage rapport commissaires fllus™ söab communication approbation lieu bilan lexltrcice nomination dadministrateurs commissaires buchen dépôts dactions cette assemblée wellen seront reçus jusquau premier avril siège admini loose ébatte stratif société samt jossetennoode chaussée b»schd«rf npril dhœcht eolleglum «ermeist« schossen holzversteigerung weltausstellungen philadelphia wien „faafcht herborn paris paris 18fi5 prämiirt allgemein ärztlich empfohlen käuflich gröaseren geeigneten geschäften montag aplil sten apotheken deutschlands 3b3b morgen» läßt herr oberförster weisovulljlkuöulellu seller «chternäch walde herborn diesjährige sommerzeit bringe ehrten kundfchaft fowie geehrten publikum «ein leich 2ü00lie£tcutlen afsortirles lager «lten öffentlich stellt tmet m»dest«ffe sssi «gt»» tutvon niedrigsten höchsten preisen geneigte baldauff notar erinnerung gleichzeitig empfehle schone auswahl fertiger sltfctßöttttdut3 henevlleider knabencostiimen wttft runa hußeisier eleganz dauerhafligleit gearbeitet hcrboln preise ieier eoncurrenz trotz bieten vermögen fpanüm ftfiten« bestellungen maaß prompt ausgeführt «°m°ncht«n°ch geneigten zuspruch bittet donnerstag tinjtimc püdvarut jacques iilnvanjji gens läßt frau anna scholtes wilhelmsstraße luxemburg w«we verlebten herrn joseph braun htlborn grosse auswabl w°hnmg ossent» »wlx «■hvwmvv llch sorg versteigern mèêgàgswffîr etbe wovon tîldcr äisluclt wallachen stuten rinder wtertdtoetne wmiîmçut£m mmmm3 ufvfut7 flcn gr°ßci wann tl«nk ssrren teimer pferde» geschirr pferhe ordgeschoß schretncrlehlnng az°°k°n utfvntietttin pbtt dauernde arbeit flanken baar zahlbar v»»«»»»«» 3oann benk echieinermeister unbekannte avsteigerer müssen legieifend laden ober sofoit bürgschaft leisten ziemern erfragen eintreten echternach miliz dreifllltioleitistraße »»»——— baldauff nota« louer wzj»«rün» dans maison dudfonck vèîttl garten wxit vancneyrung quartiek composé neutho« miethen gesucht fagt ezpeb pièces avec cave grenier gesucht fagt ««p«d\n"
     ]
    }
   ],
   "source": [
    "print('Test list: ',text_list[2])"
   ]
  },
  {
   "cell_type": "markdown",
   "metadata": {},
   "source": [
    "Lemmatization"
   ]
  },
  {
   "cell_type": "code",
   "execution_count": 11,
   "metadata": {},
   "outputs": [],
   "source": [
    "def lemmatization(texts,allowed_postags=['NOUN', 'ADJ', 'VERB']):\n",
    "\toutput = []\n",
    "\tfor sent in texts:\n",
    "\t\tdoc = nlp(sent)\n",
    "\t\toutput.append([token.lemma_ for token in doc if token.pos_ in allowed_postags])\n",
    "\treturn output"
   ]
  },
  {
   "cell_type": "code",
   "execution_count": 12,
   "metadata": {},
   "outputs": [],
   "source": [
    "tokenized_ads = lemmatization(text_list)"
   ]
  },
  {
   "cell_type": "code",
   "execution_count": 13,
   "metadata": {},
   "outputs": [
    {
     "name": "stdout",
     "output_type": "stream",
     "text": [
      "List[2]:  ['Plat', 'kaminröhr', 'Pavés', 'rayétrottoirstein', 'Ixxii', 'mosaikplatter', 'Farbe', 'gattung', 'Ixxaii', 'Harmornaur', 'Platt', 'Fenstertablett', 'Tischplatt', 'Tißchplatte', 'Grösse', 'chün', 'Auswahl', 'Kamine', 'stehen', 'aufgerichten', 'Einsicht', 'Schie', 'Spühlsteiüe', 'dimension', 'echt', 'rheinisch', 'Itttl', 'wände', 'Portlandcement', 'Rieungsröhre', 'mosaikplatten', 'erster', 'Qualität', 'Meter', 'Fabrikpreise', 'grosse', 'Niederlage', 'dachschiefern', 'dachziegeln', 'dachbrettern', 'zlegelwaaren', 'Spfihlstefne', 'Angkùe', 'elfter', 'Ttlttö', 'gemelndvowlng', 'snccnrsale9', 'Nachbenannt', 'Tag', 'lassen', 'Gemeindeverwaltung', 'Dinstag', 'Opérationsj', 'April', 'Fonds', 'Réserve', 'Holzschlage', 'Section', 'Distrikt', 'soin', 'Placement', 'Prudent', 'eich', 'Labstention', 'Spéculation', 'buchen', 'stèr', 'Scheit', 'Sadresser', 'Lagent', 'Gêné', 'oos', 'Späne', 'Donnerstag', 'industriell', 'ell', 'Oäli', 'birken', 'anonym', 'lich', 'Scheit', 'assemblée', 'heurer', 'Laprèsmidi', 'saintjosset', 'Welle', 'Noode', 'Dadministration', 'afiaire', 'social', '33««3hlmage', 'Nomination', 'buchen', 'Welle', 'Seront', 'Reçus', 'Dhœcht', 'schießen', 'Holzversteigerung', 'weltausstellung', 'faafchen', 'Prämiirt', 'empfohl', 'gröaser', 'geeignet', 'Geschäft', 'Montag', 'st', 'Apotheke', 'lassen', 'Herr', 'diesjährig', 'Sommerzeit', 'bringen', 'ehren', 'Kundfchaft', 'geehrt', 'Publikum', '2ü00lie£tcutle', 'afsortirl', 'Lager', 'Lten', 'stellen', 'Tmet', 'm', 'gt', 'niedrig', 'hoch', 'Preis', 'geneigt', 'Baldauff', 'Erinnerung', 'empfehl', 'Schone', 'Auswahl', 'fertig', 'sltfctßöttttdut3', 'henevlleid', 'Knabencostiime', 'Wttft', 'Hußeisier', 'Eleganz', 'Dauerhafligleit', 'arbeiten', 'Preise', 'Eoncurrenz', 'bieten', 'vermögen', 'ftfit', 'bestellung', 'Maaß', 'ausführen', 'geneigten', 'Zuspruch', 'bitten', 'Donnerstag', 'Püdvarut', 'Gens', 'lassen', 'Frau', 'verlebn', 'Herr', 'grosse', 'Auswabl', 'Ossent', 'Hvwmvv', 'Sorg', 'versteigern', 'Mèêgàgswffîr', 'etbe', 'Tîldcr', 'Stuten', 'Wtertdtoetne', 'Ssrren', 'Teimer', 'Pferde', 'Ordgeschoß', 'Schretncrlehlnng', 'dauernd', 'Arbeit', 'Flanke', 'Baar', '3oann', 'Echieinermeister', 'unbekannt', 'Avsteigerer', 'laden', 'Ober', 'Bürgschaft', 'leisten', 'Erfrag', 'eintreten', 'louer', 'wzj»«rün', 'Vèîttl', 'Garten', 'Vancneyrung', 'mieth', 'suchen', 'fagen', 'greni', 'suchen', 'fagen']\n"
     ]
    }
   ],
   "source": [
    "print('List[2]: ',tokenized_ads[2])"
   ]
  },
  {
   "cell_type": "markdown",
   "metadata": {},
   "source": [
    "Document Term Frequency conversion"
   ]
  },
  {
   "cell_type": "code",
   "execution_count": 14,
   "metadata": {},
   "outputs": [],
   "source": [
    "id2word = gensim.corpora.Dictionary(tokenized_ads)\n",
    "corpus = [id2word.doc2bow(rev) for rev in tokenized_ads]"
   ]
  },
  {
   "cell_type": "markdown",
   "metadata": {},
   "source": [
    "Creating an LDA Object from the Gensim Library"
   ]
  },
  {
   "cell_type": "code",
   "execution_count": 22,
   "metadata": {},
   "outputs": [],
   "source": [
    "LDA = gensim.models.ldamodel.LdaModel"
   ]
  },
  {
   "cell_type": "markdown",
   "metadata": {},
   "source": [
    "Initialising LDA model as lda_model (5 topics as default)"
   ]
  },
  {
   "cell_type": "code",
   "execution_count": 23,
   "metadata": {},
   "outputs": [],
   "source": [
    "lda_model = LDA(corpus=corpus, id2word=id2word,\n",
    "                num_topics=30, random_state=100,\n",
    "                chunksize=1000, passes=5,iterations=50)"
   ]
  },
  {
   "cell_type": "code",
   "execution_count": 24,
   "metadata": {},
   "outputs": [
    {
     "name": "stdout",
     "output_type": "stream",
     "text": [
      "Top topics: [([(0.027721558, 'Versteigerung'), (0.027026415, 'liegen'), (0.01794845, 'gelegen'), (0.016921815, 'Notar'), (0.0156244645, 'nennen'), (0.0151801, 'Wohnhaus'), (0.014910145, 'lassen'), (0.013338241, 'Garten'), (0.013078363, 'versteigern'), (0.011342371, 'Juni'), (0.011076798, 'finden'), (0.0107118, 'weisen'), (0.010675868, 'Herr'), (0.009092328, 'Haus'), (0.009067201, 'Scheune'), (0.009026517, 'Bann'), (0.008710405, 'Liebhaber'), (0.00826074, 'Wiese'), (0.008244326, 'Straße'), (0.007332339, 'Hand')], -1.4771247503635099), ([(0.016078927, 'Tasse'), (0.013810466, 'Jahr'), (0.009752105, 'Pfund'), (0.008931341, 'Mittel'), (0.008817666, 'machen'), (0.008768772, 'Gebrauch'), (0.008679193, 'leiden'), (0.008641425, 'Gesundheit'), (0.008471957, 'Magen'), (0.008173695, 'erbrechen'), (0.0075803944, 'Krankheit'), (0.0072912276, 'gut'), (0.0064047766, 'herstellen'), (0.006135784, 'husten'), (0.0061138757, 'Kraft'), (0.0060338713, 'kosten'), (0.0059487526, 'tassen'), (0.005762683, 'heilen'), (0.0057344628, 'Brust'), (0.0056107137, 'Kind')], -1.4940757596086323), ([(0.03975949, 'April'), (0.03309546, 'versteigern'), (0.025328003, 'lassen'), (0.021465508, 'Versteigerung'), (0.017862212, 'März'), (0.017450402, 'nennen'), (0.012848358, 'Herr'), (0.012766272, 'Notar'), (0.011311087, 'Donnerstag'), (0.011176457, 'Februar'), (0.010501119, 'Dienstag'), (0.00944847, 'Walde'), (0.009131394, 'Tag'), (0.008848247, 'Holz'), (0.008800753, 'kord'), (0.008582711, 'Gemeinde'), (0.007436697, 'Montag'), (0.007307184, 'Mittwoch'), (0.0069438913, 'Holzversteigerung'), (0.006862323, 'eich')], -1.6050456153333943), ([(0.018774806, 'Preis'), (0.016035367, 'groß'), (0.015902722, 'gut'), (0.014228348, 'neu'), (0.00957941, 'suchen'), (0.008214726, 'Herr'), (0.008178622, 'erster'), (0.007591961, 'stehen'), (0.006382497, 'finden'), (0.00636646, 'sagen'), (0.0059419875, 'verkaufen'), (0.00589959, 'fein'), (0.005496764, 'Jahr'), (0.0053577274, 'schön'), (0.004874136, 'nehmen'), (0.004742869, 'alt'), (0.004668617, 'gt'), (0.0045725, 'empfehlen'), (0.004460951, 'erhalten'), (0.0043086614, 'geben')], -1.886339188478648), ([(0.023109676, 'empfehlen'), (0.020696903, 'geehrt'), (0.01899543, 'Auswahl'), (0.018980337, 'Preis'), (0.018835206, 'Publikum'), (0.015198149, 'billig'), (0.014404503, 'Lager'), (0.010305629, 'Thlr'), (0.009303421, 'groß'), (0.008168025, 'ergeben'), (0.0076210923, 'Bedienung'), (0.0073266914, 'reell'), (0.0071462076, 'Anzeige'), (0.0068370723, 'beehren'), (0.0063399677, 'Artikel'), (0.0058360514, 'Bahnhof'), (0.005809123, 'fein'), (0.005727542, 'französisch'), (0.0056692143, 'Sorte'), (0.005178098, 'Dutzend')], -2.168165882252806), ([(0.12549631, '£'), (0.07091197, '§'), (0.029978534, 'nennen'), (0.020955948, 'liegen'), (0.018348612, 'Art'), (0.01801375, 'fein'), (0.016627898, 'werben'), (0.014524569, 'finb'), (0.012652309, 'gelegen'), (0.00980923, 'sagen'), (0.009574901, 'Burd'), (0.00748451, 'Ober'), (0.0063285655, 'sorg'), (0.0062695704, 'eignen'), (0.0062648114, 'September'), (0.006248541, 'roerb'), (0.0058656246, 'neu'), (0.0055033546, 'Laffen'), (0.005460998, 'Biefer'), (0.0050821565, 'ober')], -2.395712789231466), ([(0.018597845, 'Buchhandlung'), (0.015886335, 'erscheinen'), (0.013247582, 'Jahr'), (0.010213858, 'Gesellschaft'), (0.009950973, 'katholisch'), (0.009423163, 'Auflage'), (0.008861284, 'Prämie'), (0.0074625746, 'deutsch'), (0.007177629, 'heilig'), (0.007155262, 'Preis'), (0.0059452243, 'zweiter'), (0.005568213, 'Zeit'), (0.0055445237, 'versichern'), (0.005336612, 'Leben'), (0.0049336953, 'Verlag'), (0.004835608, 'Jahrgang'), (0.0047947285, 'leben'), (0.004618213, 'Buch'), (0.004405185, 'Kirche'), (0.004399707, 'Ausgabe')], -2.447470259051304), ([(0.019807838, 'Sadresser'), (0.018113965, 'Marz'), (0.015360552, 'vent'), (0.013592839, 'Luremburg'), (0.013140352, 'Relevée'), (0.012997842, 'Heures'), (0.009202831, 'Soussigné'), (0.008821313, 'Veuve'), (0.008113636, 'Fiir'), (0.008065059, 'Adjudication'), (0.007375138, 'Librairie'), (0.0071676467, 'Maison'), (0.0070434418, 'Bettemburg'), (0.0061964747, 'vente'), (0.006052814, 'Louer'), (0.0056900172, 'Heintze'), (0.0056266584, 'Belle'), (0.005060372, 'gebr'), (0.0050211456, 'Vorg'), (0.0049578785, 'Dhabitation')], -2.6196902131257436), ([(0.01773336, 'Gewinn'), (0.011879117, 'Mark'), (0.010212906, 'Ziehung'), (0.008216306, 'Interessent'), (0.0073101614, 'gewinnen'), (0.0062493463, 'amtlich'), (0.005170883, 'Briefträger'), (0.004564907, 'sicher'), (0.004555733, 'ail'), (0.00438169, 'Viertel'), (0.0040497743, 'erlangen'), (0.0038129853, 'Einsendung'), (0.003617964, 'zugesandt'), (0.0032719919, 'garantirt'), (0.0031933403, 'Abonnement'), (0.0028995157, 'gross'), (0.0028769325, 'Abonnent'), (0.0027989945, 'Entscheidung'), (0.002639725, 'Waltung'), (0.0026066285, 'erfolgen')], -4.0468130573501995), ([(0.030769931, 'Antwerpe'), (0.010410758, 'Schiff'), (0.007230534, 'Linie'), (0.006379823, 'Passagier'), (0.006069779, 'antwerpen'), (0.005872086, 'garantie'), (0.00559039, 'Dampfer'), (0.0055508316, 'ergebenst'), (0.0050150477, 'regelmäßig'), (0.0048782234, 'Abfahrt'), (0.0048547257, 'Auskunft'), (0.0048523755, 'Newyork'), (0.0047455747, 'besitzen'), (0.004699408, 'erlaufen'), (0.0042486303, 'Agent'), (0.0039589526, 'eichenstammen'), (0.0034815185, 'genres'), (0.0034612524, 'Molitor'), (0.0031791374, 'dommelding'), (0.0029952787, 'auswärtig')], -5.038430811614201), ([(0.00714537, 'Merbe'), (0.0066594537, 'Sorg'), (0.0061164456, 'Nebft'), (0.0057217116, 'Beit'), (0.0054959515, 'Tabt'), (0.0052870973, 'treffen'), (0.0050986, 'ter'), (0.004914441, 'laffen'), (0.004806019, 'verstehen'), (0.004756792, 'Tier'), (0.0046306564, 'bief'), (0.004603423, 'Guber'), (0.0043541347, 'felbft'), (0.004348423, 'fammt'), (0.004326057, 'Roeg'), (0.004238666, 'Felben'), (0.004032998, 'biefen'), (0.003922661, 'Tion'), (0.0035612967, 'giinftig'), (0.0034137147, 'rot')], -5.5488601070665196), ([(0.024973337, 'Gehalt'), (0.021050973, 'September'), (0.010521623, 'Lehrerstelle'), (0.009889691, 'Kind'), (0.008541851, 'Wohnung'), (0.007975747, 'Gebühr'), (0.005680551, 'schulpflichtig'), (0.0044856006, 'Gemeinde'), (0.004434669, 'Lehrer'), (0.0044133533, 'Havre'), (0.0041259793, 'preußisch'), (0.0038438844, 'Bezug'), (0.003782971, 'Schule'), (0.0036942973, 'Bürgermeister'), (0.003607388, 'Capital'), (0.0033841243, 'schulsaal'), (0.0033216618, 'domain'), (0.0032293147, 'Werbe'), (0.0031739075, 'Herausgeber'), (0.0031508924, 'elektrisch')], -5.815534337715524), ([(0.009112604, 'krank'), (0.008674178, 'versichert'), (0.007390178, 'aerzt'), (0.0063961507, 'heißen'), (0.0061499537, 'köstlich'), (0.006140709, 'Nahrungsmittel'), (0.0060788584, 'national'), (0.0052345656, 'beseitigen'), (0.0051550353, 'furchtbar'), (0.005064268, 'Minute'), (0.004973604, 'gelitten'), (0.0045538438, 'Natur'), (0.0044230074, 'Hochachtung'), (0.0041217483, 'Feuer'), (0.003994274, 'leid'), (0.0038354017, 'Genesung'), (0.0036412592, 'Tochter'), (0.0035902276, 'kostbar'), (0.0035219544, 'Monate'), (0.0035139201, 'gegend')], -5.902728776063547), ([(0.012699473, 'verlieren'), (0.00982907, 'Belohnung'), (0.0082429275, 'neuerbaut'), (0.00687501, 'Erdgeschoß'), (0.0053059584, 'Näheres'), (0.0050558685, 'plätzen'), (0.0044760294, 'redlich'), (0.0042472496, 'U25a0'), (0.0040722187, 'finder'), (0.0040273606, 'Pfunb'), (0.0037518016, 'sofortig'), (0.0036829605, 'leiben'), (0.0036375364, 'Eintritt'), (0.003534454, 'ehrlich'), (0.0032703343, 'Finder'), (0.0032615585, 'gabe'), (0.003133496, 'gönnern'), (0.0031232678, 'Kinber'), (0.003033021, 'ersetzen'), (0.0029673583, 'lieb')], -9.249664625109297), ([(0.008767636, 'Quartal'), (0.0069640973, 'berfteigern'), (0.005309305, 'Muff'), (0.0047318367, 'öffentlid'), (0.004604223, 'Gerung'), (0.004196277, 'steres'), (0.0040003057, 'Gaffer'), (0.0038175206, 'terer'), (0.0034962103, 'Onnerftag'), (0.0034419277, 'Amftag'), (0.002937256, 'Ssorg'), (0.002821039, 'gefeg'), (0.002797165, '9îotar'), (0.002678084, 'gin'), (0.002677074, '2lpril'), (0.0026514037, 'ben'), (0.002576181, 'Emeinbe'), (0.0025544863, 'barunt'), (0.002545091, 'Soofen'), (0.00249507, 'Eftion')], -9.865520592138214), ([(0.011975866, 'Kilo'), (0.011619711, 'Druck'), (0.005304352, 'zwiebeln'), (0.0043331357, 'geteg'), (0.0036837158, 'übl'), (0.0036341823, 'bürsn'), (0.003272083, 'Gericht'), (0.0030776882, 'Jahrhundert'), (0.002898126, 'Verlag'), (0.0028253805, 'Pinsel'), (0.0027731066, 'zahnwerk'), (0.0025284204, 'Getränk'), (0.002511627, 'fehlen'), (0.0023419918, 'Zahnschmerz'), (0.0021716356, 'Erregung'), (0.0021375832, 'erfolgen'), (0.0019039797, 'Erhitzung'), (0.0018839024, 'Nevalenta'), (0.001783768, 'heft'), (0.0015556556, 'verweigern')], -10.775589455526013), ([(0.00568522, 'vergoldet'), (0.004911962, 'richtig'), (0.0045555676, 'Produkt'), (0.0043909606, 'Submissionen'), (0.0042355, 'werfen'), (0.0037933046, 'gebrannt'), (0.0034341386, 'Banknote'), (0.0030447452, 'laufend'), (0.0030155766, 'Umlauf'), (0.0029223224, 'Weide'), (0.0029174343, 'Angebot'), (0.0026941043, 'Lesebuch'), (0.00264071, 'Raie'), (0.0026181906, 'niesen'), (0.0026063682, 'parzelle'), (0.0025856318, 'diverser'), (0.0025504974, 'Entschädigung'), (0.0024962984, 'sechster'), (0.0024141232, 'verseh'), (0.0022265904, 'Capital')], -13.31875526056896), ([(0.0051397956, 'Ohren'), (0.0048830095, 'Zuflucht'), (0.0034963428, 'enthalt'), (0.0034586622, 'Säft'), (0.0032159013, 'schlaf'), (0.0031674958, 'Hilfe'), (0.0031552864, 'Sir'), (0.0030240293, 'Verzweiflung'), (0.0029512628, 'gebunben'), (0.00280875, 'asthma'), (0.0026292051, 'Mag'), (0.0024635622, 'biefelb'), (0.002364315, 'blas'), (0.002362899, '2bief'), (0.002242001, 'Wassersucht'), (0.002132393, 'vermittelsen'), (0.0021323164, 'Niedergeschlagenheit'), (0.0020840357, 'Betäubung'), (0.0019601588, 'Roerbe'), (0.0019358749, 'Gazette')], -13.862914059635765), ([(0.004401472, 'bezweifeln'), (0.003961113, 'Redaktion'), (0.00393269, 'Unterhalt'), (0.0037984562, 'Llljr'), (0.0035052244, 'Midi'), (0.0034767208, 'atten'), (0.0034203064, 'Bort'), (0.0033911893, 'fruchtlos'), (0.0029003995, 'doktor'), (0.0026899728, 'Ber'), (0.0026492823, 'Quantum'), (0.0025953127, 'Wohlthate'), (0.00242109, 'Toerben'), (0.0024132365, 'Angelstein'), (0.0023824347, 'Grafe'), (0.0022607422, 'krämpfen'), (0.002246072, 'Senator'), (0.0021218054, 'Mithülfe'), (0.0021194508, 'gte'), (0.0020798102, 'Finer')], -14.034587923319876), ([(0.011846047, 'Auswanderer'), (0.004340282, 'Lempereur'), (0.004191123, 'ouvrag'), (0.003972803, 'Liebe'), (0.0037309318, 'Gesichts'), (0.0037133773, 'weichen'), (0.0035556026, 'bewilligen'), (0.0035274932, 'Paket'), (0.0032918146, 'fragen'), (0.0029268425, 'Garanti'), (0.002778364, 'fonbern'), (0.0027132148, 'Meift'), (0.0026098809, 'ärztlich'), (0.0025668743, 'lindern'), (0.0025072678, 'étage'), (0.002427687, 'heftig'), (0.0023040948, 'künstlich'), (0.0022815557, 'derartig'), (0.002263085, 'slmen'), (0.0021969448, 'angewandt')], -14.344377053534675), ([(0.015112283, 'Alie'), (0.0058453972, 'Kaiser'), (0.004539618, 'berfelben'), (0.0039608926, 'Sbalb'), (0.003926352, 'Bafj'), (0.0030365258, 'Seber'), (0.002762591, 'Laurent'), (0.0026958792, 'Tint'), (0.0024986004, 'Anberer'), (0.0022984352, 'Fasten'), (0.0022294358, 'Fcer'), (0.002214573, 'btef'), (0.0020867533, 'Jperr'), (0.0018340568, 'Faufen'), (0.0018089178, 'walferding'), (0.0017940168, 'Filter'), (0.0017452958, 'Fonft'), (0.0016875392, '33ei'), (0.0016442771, 'Heinr'), (0.0016349131, 'alien')], -14.386839615483362), ([(0.004777101, 'sten'), (0.004772514, 'Ergebenft'), (0.0045628394, 'Berliner'), (0.004459336, 'spielen'), (0.0042959875, 'geren'), (0.003943391, 'gründlich'), (0.003783487, 'Gerber'), (0.003726402, 'fonftig'), (0.003250646, 'nötig'), (0.0030612694, 'Bewerber'), (0.0030387584, 'Zeile'), (0.0030370895, 'ern'), (0.0029243017, 'Aufl'), (0.0026013677, 'Auster'), (0.002489136, 'wohlthat'), (0.0021685925, 'Defen'), (0.002108647, 'Dépôt'), (0.0020495858, 'Stahl'), (0.001935434, 'pfehl'), (0.0018472823, 'Communion')], -15.625847967853794), ([(0.005317573, 's’'), (0.005255047, 'ften'), (0.0040381984, 'Pompes'), (0.0038087743, 'Fung'), (0.0032261477, 'Mobilie'), (0.003109359, 'Pression'), (0.002994151, 'reparatur'), (0.0028232872, 'pompes'), (0.0024736263, 'schellfisch'), (0.0024170666, 'Karre'), (0.0024056542, 'Imprimeur'), (0.0023300643, 'sief'), (0.0021097148, 'Bière'), (0.0020361377, 'Mainzer'), (0.00199524, 'pill'), (0.0018521901, 'Perfectionnées'), (0.0017189055, 'Operation'), (0.0017099489, 'Tourbe'), (0.0016805866, 'fcljr'), (0.0016287174, 'etting')], -16.117109747222834), ([(0.003950664, 'vermeiden'), (0.0031125427, 'Vuch'), (0.0029665974, 'Maurer'), (0.002897176, 'rig'), (0.0028703788, 'jeb'), (0.0028418251, 'Grab'), (0.0025603457, 'klar'), (0.002542165, 'Sicht'), (0.0022695526, 'Sanitär'), (0.0021313028, 'initial'), (0.0017346421, 'Sand'), (0.0015865444, '25ie'), (0.001473025, 'Fin'), (0.001390897, 'eiben'), (0.0013059468, 'eteren'), (0.0012989845, 'Schmied'), (0.0012436634, '18c9'), (0.0012210463, 'kelt'), (0.0010453557, 'Directement'), (0.0009836234, 'ssiefen')], -16.709310877480995), ([(0.004924173, 'eiteren'), (0.004091136, 'geworden'), (0.0029459868, 'Beaufort'), (0.0028270783, 'Bascharage'), (0.0026848612, 'Ferkel'), (0.0026411992, 'Präeis'), (0.002485421, 'Frost'), (0.0021779514, 'Viehbestand'), (0.0020123553, 'Beding'), (0.0019117323, 'int'), (0.0018783577, 'rollen'), (0.0018752372, 'abfassen'), (0.0018540926, 'bordüren'), (0.0017042723, 'oessentlich'), (0.0016795032, 'bild'), (0.0016546097, 'récolt'), (0.0015702613, '3master'), (0.0015140747, 'Federbett'), (0.0014581151, 'Industriel'), (0.0014513689, 'Niederkorn')], -17.24702969371585), ([(0.009259069, 'schieren'), (0.0073267957, 'Suremburg'), (0.002921171, 'erhöhen'), (0.0028792822, 'Zucker'), (0.0027970802, 'Weinhändler'), (0.0027114823, 'Hafen'), (0.0025837482, 'Verfügung'), (0.0024843276, 'Fabricant'), (0.0024588413, 'boit'), (0.0024129772, 'aut'), (0.0023927272, 'Ufjr'), (0.0020973978, 'requet'), (0.0020692735, 'Aelege'), (0.0020624797, 'mittlerer'), (0.0019416161, 'avec'), (0.0018932681, 'riefe'), (0.0018684968, 'Nierenleibe'), (0.0017870343, 'verfiel'), (0.0017593437, 'vertreten'), (0.0017514345, 'Bretter')], -17.55933385372244), ([(0.006395423, 'aufnehmen'), (0.0048482274, 'Kilogr'), (0.0040513612, 'Seller'), (0.0034562312, 'Grotze'), (0.0032256632, 'berichten'), (0.0027266198, 'Setter'), (0.002534839, 'angefertigen'), (0.0021919624, 'Butter'), (0.0020291526, 'Säur'), (0.001788153, 'Reizbarkeit'), (0.0017091972, 'Kasten'), (0.0016441124, 'feben'), (0.001572351, 'beeren'), (0.0014934434, 'Thionville'), (0.0013086394, 'bekämpfen'), (0.0012099007, 'Basier'), (0.0011431369, 'Caves'), (0.0011249215, 'Straffe'), (0.0010834971, 'vissen'), (0.0010750793, 'arbr')], -17.689450270425933), ([(0.005087251, 'Gent'), (0.0045978217, 'mechanisch'), (0.0037123421, 'Arien'), (0.0036348922, 'sine'), (0.0034750542, 'schriftlich'), (0.0028432328, 'beringe'), (0.0026398138, 'Heilkraft'), (0.0024665175, 'küch'), (0.002310046, 'Feulen'), (0.0022043122, 'oerfaufen'), (0.002152341, 'erwarten'), (0.0021392643, 'vornehmen'), (0.0021191381, 'Ankäufer'), (0.002058809, 'anerkannt'), (0.0019673307, 'Cément'), (0.0019025747, 'Handelsgeschäft'), (0.0018359738, 'verni'), (0.0018017202, 'Patent'), (0.0017992889, 'Hund'), (0.0016947619, 'pectoral')], -18.069813929757732), ([(0.004200899, 'aecht'), (0.004198261, 'ausländisch'), (0.0035466736, 'Gastwirthschaft'), (0.0024869626, 'erfteigeren'), (0.0019176226, 'Tanne'), (0.0017078064, 'gtt'), (0.0015722478, 'feucht'), (0.0014045945, 'Tente'), (0.001376726, 'Sjerfteigerung'), (0.0013417321, 'Lentreprise'), (0.001284389, 'kürzester'), (0.0012387409, 'kapellen'), (0.0012115164, 'Piesporter'), (0.0010972321, 'normal'), (0.0010860609, 'Waffer'), (0.0010798889, 'rolh'), (0.0010347533, 'erbitten'), (0.00096116797, 'Flan'), (0.00095256127, 'beilegen'), (0.0009134589, 'Centim')], -18.42328007691576), ([(0.0050026905, 'luxemburger'), (0.004712215, 'Fahrplan'), (0.004175302, 'Bere'), (0.003637185, 'Schuhmacher'), (0.0029666466, 'Fromage'), (0.0029620857, 'Soff'), (0.0023295009, 'Einrahme'), (0.0021240117, 'Regierungsgebäude'), (0.0020854534, 'schaden'), (0.0020849241, 'Jesu'), (0.0018515058, 'Bedachung'), (0.0018251543, 'Buchhaltung'), (0.0017358577, 'biflig'), (0.0016636478, 'Coblenz'), (0.0016137896, 'Knaben'), (0.001554028, 'Fiber'), (0.0014486514, 'ct'), (0.0014093015, 'Trarbach'), (0.001377932, 'karpfen'), (0.0012819729, 'Daus')], -18.527589023236512)]\n"
     ]
    }
   ],
   "source": [
    "# Print top topics\n",
    "lda_model.print_topics()\n",
    "print('Top topics:',lda_model.top_topics(corpus))"
   ]
  },
  {
   "cell_type": "markdown",
   "metadata": {},
   "source": [
    "Perplexity"
   ]
  },
  {
   "cell_type": "code",
   "execution_count": 25,
   "metadata": {},
   "outputs": [
    {
     "name": "stdout",
     "output_type": "stream",
     "text": [
      "\n",
      "Perplexity:  -24.838705621070137\n"
     ]
    }
   ],
   "source": [
    "print('\\nPerplexity: ', lda_model.log_perplexity(corpus)) "
   ]
  },
  {
   "cell_type": "markdown",
   "metadata": {},
   "source": [
    "Coherence"
   ]
  },
  {
   "cell_type": "code",
   "execution_count": 26,
   "metadata": {},
   "outputs": [],
   "source": [
    "coherence_model_lda = CoherenceModel(model=lda_model,\n",
    "                                     texts=tokenized_ads, dictionary=id2word ,\n",
    "                                     coherence='u_mass', processes=4)"
   ]
  },
  {
   "cell_type": "code",
   "execution_count": 27,
   "metadata": {},
   "outputs": [
    {
     "name": "stdout",
     "output_type": "stream",
     "text": [
      "Calculating coherence...\n",
      "Coherence:  -9.941766852430115\n"
     ]
    }
   ],
   "source": [
    "print('Calculating coherence...')\n",
    "coherence_lda = coherence_model_lda.get_coherence()\n",
    "print('Coherence: ', coherence_lda)"
   ]
  },
  {
   "cell_type": "markdown",
   "metadata": {},
   "source": [
    "Visualising the Data"
   ]
  },
  {
   "cell_type": "code",
   "execution_count": 2,
   "metadata": {},
   "outputs": [
    {
     "ename": "NameError",
     "evalue": "name 'pyLDAvis' is not defined",
     "output_type": "error",
     "traceback": [
      "\u001b[0;31m---------------------------------------------------------------------------\u001b[0m",
      "\u001b[0;31mNameError\u001b[0m                                 Traceback (most recent call last)",
      "Cell \u001b[0;32mIn[2], line 1\u001b[0m\n\u001b[0;32m----> 1\u001b[0m pyLDAvis\u001b[39m.\u001b[39menable_notebook()\n\u001b[1;32m      2\u001b[0m pyLDAvis\u001b[39m.\u001b[39mgensim_models\u001b[39m.\u001b[39mprepare(lda_model, corpus, id2word)\n",
      "\u001b[0;31mNameError\u001b[0m: name 'pyLDAvis' is not defined"
     ]
    }
   ],
   "source": [
    "pyLDAvis.enable_notebook()\n",
    "pyLDAvis.gensim_models.prepare(lda_model, corpus, id2word)"
   ]
  }
 ],
 "metadata": {
  "kernelspec": {
   "display_name": "Python 3.9.2 64-bit",
   "language": "python",
   "name": "python3"
  },
  "language_info": {
   "codemirror_mode": {
    "name": "ipython",
    "version": 3
   },
   "file_extension": ".py",
   "mimetype": "text/x-python",
   "name": "python",
   "nbconvert_exporter": "python",
   "pygments_lexer": "ipython3",
   "version": "3.9.2"
  },
  "orig_nbformat": 4,
  "vscode": {
   "interpreter": {
    "hash": "916dbcbb3f70747c44a77c7bcd40155683ae19c65e1c03b4aa3499c5328201f1"
   }
  }
 },
 "nbformat": 4,
 "nbformat_minor": 2
}
